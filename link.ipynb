{
 "cells": [
  {
   "cell_type": "code",
   "execution_count": 1,
   "metadata": {},
   "outputs": [
    {
     "name": "stderr",
     "output_type": "stream",
     "text": [
      "USER_AGENT environment variable not set, consider setting it to identify your requests.\n",
      "/Users/fjp/.pyenv/versions/3.9.4/lib/python3.9/site-packages/pinecone/data/index.py:1: TqdmWarning: IProgress not found. Please update jupyter and ipywidgets. See https://ipywidgets.readthedocs.io/en/stable/user_install.html\n",
      "  from tqdm.autonotebook import tqdm\n"
     ]
    }
   ],
   "source": [
    "from langchain.document_loaders import UnstructuredPDFLoader, OnlinePDFLoader, WebBaseLoader, YoutubeLoader, DirectoryLoader, TextLoader, PyPDFLoader\n",
    "from langchain.text_splitter import RecursiveCharacterTextSplitter\n",
    "from sklearn.metrics.pairwise import cosine_similarity\n",
    "from langchain_pinecone import PineconeVectorStore\n",
    "from langchain.embeddings import OpenAIEmbeddings\n",
    "\n",
    "from pinecone import Pinecone\n",
    "from openai import OpenAI\n",
    "import numpy as np\n",
    "import tiktoken\n",
    "import os"
   ]
  },
  {
   "cell_type": "code",
   "execution_count": 2,
   "metadata": {},
   "outputs": [
    {
     "name": "stderr",
     "output_type": "stream",
     "text": [
      "/Users/fjp/.pyenv/versions/3.9.4/lib/python3.9/site-packages/langchain_core/_api/deprecation.py:141: LangChainDeprecationWarning: The class `OpenAIEmbeddings` was deprecated in LangChain 0.0.9 and will be removed in 0.3.0. An updated version of the class exists in the langchain-openai package and should be used instead. To use it run `pip install -U langchain-openai` and import as `from langchain_openai import OpenAIEmbeddings`.\n",
      "  warn_deprecated(\n"
     ]
    }
   ],
   "source": [
    "embeddings = OpenAIEmbeddings()\n",
    "embed_model = \"text-embedding-3-small\"\n",
    "openai_client = OpenAI()"
   ]
  },
  {
   "cell_type": "code",
   "execution_count": 3,
   "metadata": {},
   "outputs": [],
   "source": [
    "tokenizer = tiktoken.get_encoding('p50k_base')\n",
    "\n",
    "# create the length function\n",
    "def tiktoken_len(text):\n",
    "    tokens = tokenizer.encode(\n",
    "        text,\n",
    "        disallowed_special=()\n",
    "    )\n",
    "    return len(tokens)\n",
    "\n",
    "text_splitter = RecursiveCharacterTextSplitter(\n",
    "        chunk_size=2000,\n",
    "        chunk_overlap=100,\n",
    "        length_function=tiktoken_len,\n",
    "        separators=[\"\\n\\n\", \"\\n\", \" \", \"\"]\n",
    ")"
   ]
  },
  {
   "cell_type": "code",
   "execution_count": 4,
   "metadata": {},
   "outputs": [
    {
     "name": "stdout",
     "output_type": "stream",
     "text": [
      "Embedding for Sentence 1: [[-0.0008688  -0.05343446 -0.01759788 ...  0.03625558 -0.02790028\n",
      "  -0.00312861]]\n",
      "\n",
      "Embedding for Sentence 2: [[ 0.01854512 -0.01367737  0.01343909 ...  0.00889812 -0.04234606\n",
      "  -0.00459543]]\n",
      "\n",
      "\n",
      "Cosine similarity between 'I like walking to the park' and 'I like walking to the office': 0.7019\n"
     ]
    }
   ],
   "source": [
    "def get_embedding(text, model=\"text-embedding-3-small\"):\n",
    "    # Call the OpenAI API to get the embedding for the text\n",
    "    response = openai_client.embeddings.create(input=text, model=model)\n",
    "    return response.data[0].embedding\n",
    "\n",
    "def cosine_similarity_between_words(sentence1, sentence2):\n",
    "    # Get embeddings for both words\n",
    "    embedding1 = np.array(get_embedding(sentence1))\n",
    "    embedding2 = np.array(get_embedding(sentence2))\n",
    "\n",
    "    # Reshape embeddings for cosine_similarity function\n",
    "    embedding1 = embedding1.reshape(1, -1)\n",
    "    embedding2 = embedding2.reshape(1, -1)\n",
    "\n",
    "    print(\"Embedding for Sentence 1:\", embedding1)\n",
    "    print(\"\\nEmbedding for Sentence 2:\", embedding2)\n",
    "\n",
    "    # Calculate cosine similarity\n",
    "    similarity = cosine_similarity(embedding1, embedding2)\n",
    "    return similarity[0][0]\n",
    "\n",
    "\n",
    "# Example usage\n",
    "sentence1 = \"I like walking to the park\"\n",
    "sentence2 = \"I like walking to the office\"\n",
    "\n",
    "\n",
    "similarity = cosine_similarity_between_words(sentence1, sentence2)\n",
    "print(f\"\\n\\nCosine similarity between '{sentence1}' and '{sentence2}': {similarity:.4f}\")"
   ]
  },
  {
   "cell_type": "code",
   "execution_count": 5,
   "metadata": {},
   "outputs": [
    {
     "name": "stdout",
     "output_type": "stream",
     "text": [
      "[Document(metadata={'source': 'https://www.ratemyprofessors.com/professor/2894450', 'title': 'S.K. Ramesh at California State University Northridge | Rate My Professors', 'description': 'S.K. Ramesh  is a professor in the Engineering department at California State University Northridge - see what their students are saying about them or leave a rating yourself.', 'language': 'No language found.'}, page_content=\"\\n\\n\\n\\n\\n\\n\\n\\n\\n\\n\\n\\n\\n\\nS.K. Ramesh at California State University Northridge | Rate My Professors\\n\\n\\n\\n\\n\\n\\n\\n\\n\\n\\n\\n\\n\\n\\n\\n ProfessorscancelatLog InSign Up5/ 5Jump To Ratings Overall Quality Based on\\xa01\\xa0ratingsS.K. Ramesh Professor in the Engineering department at California State University Northridge100%Would take again3Level of DifficultyRateCompareI'm Professor RameshProfessor Ramesh's Top TagsGet ready to readInspirationalRespected1 Student RatingsAll courses ECE578Dec 17th, 2023Quality5.0Difficulty3.0 ECE578Dec 17th, 2023For Credit: YesWould Take Again: YesGrade: ATextbook: YesOnline Class: YesThis professor is awsome he very nice and tries to include all specialties. His midterm are very straight forward  very related to the homework. The final was a curveball but he curves at the end. The paper he a bit tough on but if you put in effort you will be fine. Overall amazing professor highly recomend him for any course.Get ready to readInspirationalRespectedHelpful 0 0AdvertisementHelpSite GuidelinesTerms & ConditionsPrivacy PolicyCopyright Compliance PolicyCA Notice at CollectionCA Do Not Sell or Share My Personal Information© 2024 Rate My Professors, LLC. All Rights Reserved\\n\\n\\n\\n\\n\")]\n"
     ]
    }
   ],
   "source": [
    "loader = WebBaseLoader(\"https://www.ratemyprofessors.com/professor/2894450\")\n",
    "data = loader.load()\n",
    "\n",
    "print(data)"
   ]
  },
  {
   "cell_type": "code",
   "execution_count": 6,
   "metadata": {},
   "outputs": [],
   "source": [
    "texts = text_splitter.split_documents(data)"
   ]
  },
  {
   "cell_type": "code",
   "execution_count": 7,
   "metadata": {},
   "outputs": [
    {
     "data": {
      "text/plain": [
       "[Document(metadata={'source': 'https://www.ratemyprofessors.com/professor/2894450', 'title': 'S.K. Ramesh at California State University Northridge | Rate My Professors', 'description': 'S.K. Ramesh  is a professor in the Engineering department at California State University Northridge - see what their students are saying about them or leave a rating yourself.', 'language': 'No language found.'}, page_content=\"S.K. Ramesh at California State University Northridge | Rate My Professors\\n\\n\\n\\n\\n\\n\\n\\n\\n\\n\\n\\n\\n\\n\\n\\n ProfessorscancelatLog InSign Up5/ 5Jump To Ratings Overall Quality Based on\\xa01\\xa0ratingsS.K. Ramesh Professor in the Engineering department at California State University Northridge100%Would take again3Level of DifficultyRateCompareI'm Professor RameshProfessor Ramesh's Top TagsGet ready to readInspirationalRespected1 Student RatingsAll courses ECE578Dec 17th, 2023Quality5.0Difficulty3.0 ECE578Dec 17th, 2023For Credit: YesWould Take Again: YesGrade: ATextbook: YesOnline Class: YesThis professor is awsome he very nice and tries to include all specialties. His midterm are very straight forward  very related to the homework. The final was a curveball but he curves at the end. The paper he a bit tough on but if you put in effort you will be fine. Overall amazing professor highly recomend him for any course.Get ready to readInspirationalRespectedHelpful 0 0AdvertisementHelpSite GuidelinesTerms & ConditionsPrivacy PolicyCopyright Compliance PolicyCA Notice at CollectionCA Do Not Sell or Share My Personal Information© 2024 Rate My Professors, LLC. All Rights Reserved\")]"
      ]
     },
     "execution_count": 7,
     "metadata": {},
     "output_type": "execute_result"
    }
   ],
   "source": [
    "texts"
   ]
  },
  {
   "cell_type": "code",
   "execution_count": 8,
   "metadata": {},
   "outputs": [],
   "source": [
    "vectorstore = PineconeVectorStore(index_name=\"rag\", embedding=embeddings)\n",
    "\n",
    "index_name = \"rag\"\n",
    "\n",
    "namespace = \"ns1\""
   ]
  },
  {
   "cell_type": "code",
   "execution_count": null,
   "metadata": {},
   "outputs": [],
   "source": [
    "for document in texts:\n",
    "    print(\"\\n\\n\\n\\n----\")\n",
    "    print(document.metadata , document.page_content)\n",
    "    print(\"\\n\\n\\n\\n----\")"
   ]
  }
 ],
 "metadata": {
  "kernelspec": {
   "display_name": "rag",
   "language": "python",
   "name": "python3"
  },
  "language_info": {
   "codemirror_mode": {
    "name": "ipython",
    "version": 3
   },
   "file_extension": ".py",
   "mimetype": "text/x-python",
   "name": "python",
   "nbconvert_exporter": "python",
   "pygments_lexer": "ipython3",
   "version": "3.9.4"
  }
 },
 "nbformat": 4,
 "nbformat_minor": 2
}
